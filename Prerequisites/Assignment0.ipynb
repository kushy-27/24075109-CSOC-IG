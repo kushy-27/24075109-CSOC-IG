{
 "cells": [
  {
   "cell_type": "code",
   "execution_count": 4,
   "id": "13fd9985-c711-4b5c-98eb-0662df86351c",
   "metadata": {},
   "outputs": [],
   "source": [
    "import pandas as pd\n",
    "import random\n",
    "import time\n",
    "house_data=pd.read_csv(\"california-housing-prices/housing.csv\")"
   ]
  },
  {
   "cell_type": "code",
   "execution_count": 31,
   "id": "07d1abd4-39ed-4b18-91c8-49d3233fecda",
   "metadata": {},
   "outputs": [],
   "source": [
    "from sklearn.metrics import mean_absolute_error, mean_squared_error, r2_score"
   ]
  },
  {
   "cell_type": "code",
   "execution_count": 32,
   "id": "bdabbe84-d5cc-4e8a-bfbc-97ca02971049",
   "metadata": {},
   "outputs": [
    {
     "data": {
      "text/html": [
       "<div>\n",
       "<style scoped>\n",
       "    .dataframe tbody tr th:only-of-type {\n",
       "        vertical-align: middle;\n",
       "    }\n",
       "\n",
       "    .dataframe tbody tr th {\n",
       "        vertical-align: top;\n",
       "    }\n",
       "\n",
       "    .dataframe thead th {\n",
       "        text-align: right;\n",
       "    }\n",
       "</style>\n",
       "<table border=\"1\" class=\"dataframe\">\n",
       "  <thead>\n",
       "    <tr style=\"text-align: right;\">\n",
       "      <th></th>\n",
       "      <th>longitude</th>\n",
       "      <th>latitude</th>\n",
       "      <th>housing_median_age</th>\n",
       "      <th>total_rooms</th>\n",
       "      <th>total_bedrooms</th>\n",
       "      <th>population</th>\n",
       "      <th>households</th>\n",
       "      <th>median_income</th>\n",
       "      <th>median_house_value</th>\n",
       "      <th>ocean_proximity</th>\n",
       "    </tr>\n",
       "  </thead>\n",
       "  <tbody>\n",
       "    <tr>\n",
       "      <th>0</th>\n",
       "      <td>-122.23</td>\n",
       "      <td>37.88</td>\n",
       "      <td>41.0</td>\n",
       "      <td>880.0</td>\n",
       "      <td>129.0</td>\n",
       "      <td>322.0</td>\n",
       "      <td>126.0</td>\n",
       "      <td>8.3252</td>\n",
       "      <td>452600.0</td>\n",
       "      <td>NEAR BAY</td>\n",
       "    </tr>\n",
       "    <tr>\n",
       "      <th>1</th>\n",
       "      <td>-122.22</td>\n",
       "      <td>37.86</td>\n",
       "      <td>21.0</td>\n",
       "      <td>7099.0</td>\n",
       "      <td>1106.0</td>\n",
       "      <td>2401.0</td>\n",
       "      <td>1138.0</td>\n",
       "      <td>8.3014</td>\n",
       "      <td>358500.0</td>\n",
       "      <td>NEAR BAY</td>\n",
       "    </tr>\n",
       "    <tr>\n",
       "      <th>2</th>\n",
       "      <td>-122.24</td>\n",
       "      <td>37.85</td>\n",
       "      <td>52.0</td>\n",
       "      <td>1467.0</td>\n",
       "      <td>190.0</td>\n",
       "      <td>496.0</td>\n",
       "      <td>177.0</td>\n",
       "      <td>7.2574</td>\n",
       "      <td>352100.0</td>\n",
       "      <td>NEAR BAY</td>\n",
       "    </tr>\n",
       "  </tbody>\n",
       "</table>\n",
       "</div>"
      ],
      "text/plain": [
       "   longitude  latitude  housing_median_age  total_rooms  total_bedrooms  \\\n",
       "0    -122.23     37.88                41.0        880.0           129.0   \n",
       "1    -122.22     37.86                21.0       7099.0          1106.0   \n",
       "2    -122.24     37.85                52.0       1467.0           190.0   \n",
       "\n",
       "   population  households  median_income  median_house_value ocean_proximity  \n",
       "0       322.0       126.0         8.3252            452600.0        NEAR BAY  \n",
       "1      2401.0      1138.0         8.3014            358500.0        NEAR BAY  \n",
       "2       496.0       177.0         7.2574            352100.0        NEAR BAY  "
      ]
     },
     "execution_count": 32,
     "metadata": {},
     "output_type": "execute_result"
    }
   ],
   "source": [
    "house_data.head(3)"
   ]
  },
  {
   "cell_type": "code",
   "execution_count": 33,
   "id": "43fe89cf-5aee-4591-9ebd-6778616b3d09",
   "metadata": {},
   "outputs": [],
   "source": [
    "y=house_data[\"median_house_value\"]\n",
    "feature_names = [\"longitude\",\t\"latitude\", \"housing_median_age\",\"total_rooms\",\"total_bedrooms\",\"population\",\"households\",\"median_income\",\"ocean_proximity\"]\n",
    "X=house_data[feature_names]\n",
    "X = house_data[feature_names]\n",
    "X = X.fillna(X.mean(numeric_only=True))"
   ]
  },
  {
   "cell_type": "code",
   "execution_count": 34,
   "id": "d45ac083-1558-4f76-b150-8f4f3ad7abae",
   "metadata": {},
   "outputs": [],
   "source": [
    "from sklearn.model_selection import train_test_split\n",
    "X_train, X_val, y_train, y_val=train_test_split(X,y,test_size=0.3)"
   ]
  },
  {
   "cell_type": "code",
   "execution_count": 35,
   "id": "ec3ff14f-9cc1-48de-a8ca-702eb4e801a1",
   "metadata": {},
   "outputs": [],
   "source": [
    "from sklearn import preprocessing\n",
    "enc = preprocessing.OrdinalEncoder()\n",
    "enc.fit(X_train[[\"ocean_proximity\"]])  \n",
    "\n",
    "X_train.loc[:, \"ocean_proximity\"] = enc.transform(X_train[[\"ocean_proximity\"]])\n",
    "X_val.loc[:, \"ocean_proximity\"] = enc.transform(X_val[[\"ocean_proximity\"]])"
   ]
  },
  {
   "cell_type": "code",
   "execution_count": 36,
   "id": "8607831c-0ec9-4a7f-bd0f-17f82715300e",
   "metadata": {},
   "outputs": [
    {
     "data": {
      "text/html": [
       "<div>\n",
       "<style scoped>\n",
       "    .dataframe tbody tr th:only-of-type {\n",
       "        vertical-align: middle;\n",
       "    }\n",
       "\n",
       "    .dataframe tbody tr th {\n",
       "        vertical-align: top;\n",
       "    }\n",
       "\n",
       "    .dataframe thead th {\n",
       "        text-align: right;\n",
       "    }\n",
       "</style>\n",
       "<table border=\"1\" class=\"dataframe\">\n",
       "  <thead>\n",
       "    <tr style=\"text-align: right;\">\n",
       "      <th></th>\n",
       "      <th>longitude</th>\n",
       "      <th>latitude</th>\n",
       "      <th>housing_median_age</th>\n",
       "      <th>total_rooms</th>\n",
       "      <th>total_bedrooms</th>\n",
       "      <th>population</th>\n",
       "      <th>households</th>\n",
       "      <th>median_income</th>\n",
       "      <th>ocean_proximity</th>\n",
       "    </tr>\n",
       "  </thead>\n",
       "  <tbody>\n",
       "    <tr>\n",
       "      <th>20151</th>\n",
       "      <td>-119.23</td>\n",
       "      <td>34.44</td>\n",
       "      <td>34.0</td>\n",
       "      <td>3193.0</td>\n",
       "      <td>664.0</td>\n",
       "      <td>1434.0</td>\n",
       "      <td>627.0</td>\n",
       "      <td>2.4777</td>\n",
       "      <td>0.0</td>\n",
       "    </tr>\n",
       "    <tr>\n",
       "      <th>13308</th>\n",
       "      <td>-117.61</td>\n",
       "      <td>34.08</td>\n",
       "      <td>20.0</td>\n",
       "      <td>3550.0</td>\n",
       "      <td>736.0</td>\n",
       "      <td>2229.0</td>\n",
       "      <td>681.0</td>\n",
       "      <td>3.0199</td>\n",
       "      <td>1.0</td>\n",
       "    </tr>\n",
       "    <tr>\n",
       "      <th>15551</th>\n",
       "      <td>-117.09</td>\n",
       "      <td>33.11</td>\n",
       "      <td>32.0</td>\n",
       "      <td>1713.0</td>\n",
       "      <td>321.0</td>\n",
       "      <td>891.0</td>\n",
       "      <td>286.0</td>\n",
       "      <td>3.1429</td>\n",
       "      <td>0.0</td>\n",
       "    </tr>\n",
       "  </tbody>\n",
       "</table>\n",
       "</div>"
      ],
      "text/plain": [
       "       longitude  latitude  housing_median_age  total_rooms  total_bedrooms  \\\n",
       "20151    -119.23     34.44                34.0       3193.0           664.0   \n",
       "13308    -117.61     34.08                20.0       3550.0           736.0   \n",
       "15551    -117.09     33.11                32.0       1713.0           321.0   \n",
       "\n",
       "       population  households  median_income ocean_proximity  \n",
       "20151      1434.0       627.0         2.4777             0.0  \n",
       "13308      2229.0       681.0         3.0199             1.0  \n",
       "15551       891.0       286.0         3.1429             0.0  "
      ]
     },
     "execution_count": 36,
     "metadata": {},
     "output_type": "execute_result"
    }
   ],
   "source": [
    "X_train.head(3)"
   ]
  },
  {
   "cell_type": "code",
   "execution_count": 42,
   "id": "8811d9e3-1f84-44b3-9d20-3aa69cea0d01",
   "metadata": {},
   "outputs": [],
   "source": [
    "scaler = preprocessing.StandardScaler().fit(X_train)\n",
    "\n",
    "X_train_scaled = scaler.transform(X_train)\n",
    "X_val_scaled = scaler.transform(X_val)"
   ]
  },
  {
   "cell_type": "code",
   "execution_count": 46,
   "id": "6b16232b-d585-405f-bc47-1ed6450005f8",
   "metadata": {},
   "outputs": [],
   "source": [
    "features = X_train_scaled.tolist()\n",
    "features2 = X_val_scaled.tolist()\n",
    "y_train_list = y_train.tolist()\n",
    "y_val_list = y_val.tolist()"
   ]
  },
  {
   "cell_type": "code",
   "execution_count": 80,
   "id": "943d42f5-8304-40d7-a2c0-46bdb29dee09",
   "metadata": {},
   "outputs": [],
   "source": [
    "#Pure Python Implementation\n",
    "class LinearRegression1:\n",
    "    def __init__(self, learning_rate=0.1, iterations=1000):\n",
    "        self.alpha = learning_rate\n",
    "        self.iterations = iterations\n",
    "        self.w = None\n",
    "        self.b=0\n",
    "        self.costFunction=[]\n",
    "        \n",
    "    def predict(self,X):\n",
    "        new_y=[]\n",
    "        for i in range(len(X)):\n",
    "            pred_y=self.b\n",
    "            for j in range(len(X[0])):\n",
    "                pred_y+=self.w[j]*X[i][j]\n",
    "            new_y.append(pred_y)\n",
    "        return new_y\n",
    "        \n",
    "    def cost_function(self, X, y):\n",
    "        m = len(y)\n",
    "        predictions = self.predict(X)\n",
    "        cost = sum((predictions[i] - y[i]) ** 2 for i in range(m)) / (2 * m)\n",
    "        return cost\n",
    "        \n",
    "    def cost_derivative(self,y_predict,y,X,j):\n",
    "        m=len(y)\n",
    "        sum=0\n",
    "        for i in range(m):\n",
    "            sum+=(y_predict[i]-y[i])*X[i][j]\n",
    "        return sum/m\n",
    "        \n",
    "    def b_derivative(self,y_predict,y):\n",
    "        m=len(y)\n",
    "        sum=0\n",
    "        for i in range(m):\n",
    "            sum+=(y_predict[i]-y[i])\n",
    "        return sum/m\n",
    "        \n",
    "    def fit(self,X,y):\n",
    "        m = len(y)\n",
    "        n = len(X[0])\n",
    "        self.w = [random.uniform(-0.01, 0.01) for _ in range(n)]\n",
    "        self.b = 0\n",
    "        for iteration in range(self.iterations):\n",
    "            y_predict=self.predict(X)\n",
    "            for i in range(n):\n",
    "                self.w[i]-=self.alpha*self.cost_derivative(y_predict,y,X,i)\n",
    "            self.b -= self.alpha * self.b_derivative(y_predict, y)\n",
    "            self.costFunction.append(self.cost_function(X, y))\n"
   ]
  },
  {
   "cell_type": "code",
   "execution_count": 81,
   "id": "a2fdef96-c02c-4685-bbf8-82822b83b787",
   "metadata": {},
   "outputs": [
    {
     "name": "stdout",
     "output_type": "stream",
     "text": [
      "Predictions: [207754.65152758043, 174092.03654556352, 325420.9981268321, 93060.0161108461, 164297.342911484, 283337.81858192454, 304865.46046079934, 2571.606202953449, 83191.82445927827, 424215.8403409457]\n",
      "Actual: [228800.0, 99500.0, 353100.0, 221900.0, 102300.0, 197100.0, 273700.0, 64500.0, 69300.0, 500001.0]\n"
     ]
    }
   ],
   "source": [
    "model = LinearRegression1()\n",
    "start_time=time.time()\n",
    "model.fit(features, y_train_list)\n",
    "end_time=time.time()\n",
    "\n",
    "pure_time=end_time-start_time\n",
    "predicted_y1 = model.predict(features2)\n",
    "\n",
    "print(\"Predictions:\", predicted_y1[:10])\n",
    "print(\"Actual:\", y_val_list[:10])"
   ]
  },
  {
   "cell_type": "code",
   "execution_count": 82,
   "id": "bc32066a-4f1d-4891-bc1a-98bcd8eef347",
   "metadata": {},
   "outputs": [],
   "source": [
    "#numpy implementation\n",
    "import numpy as np\n",
    "class LinearRegression2:\n",
    "    def __init__(self, learning_rate=0.1, iterations=1000):\n",
    "        self.alpha = learning_rate\n",
    "        self.iterations = iterations\n",
    "        self.w = None\n",
    "        self.b = 0\n",
    "        self.costFunction=[]\n",
    "        \n",
    "    def predict(self, X):\n",
    "        return np.dot(X, self.w) + self.b\n",
    "\n",
    "    def cost_function(self, X, y):\n",
    "        m = len(y)\n",
    "        predictions = self.predict(X)\n",
    "        cost = sum((predictions - y) ** 2) / (2 * m)\n",
    "        return cost\n",
    "        \n",
    "    def cost_derivative(self, y_predict, y, X):\n",
    "        m = len(y)\n",
    "        return np.dot(X.T, (y_predict - y)) / m\n",
    "        \n",
    "    def b_derivative(self, y_predict, y):\n",
    "        m = len(y)\n",
    "        return np.sum(y_predict - y) / m\n",
    "\n",
    "    def fit(self, X, y):\n",
    "        X = np.array(X)\n",
    "        y = np.array(y)\n",
    "        \n",
    "        m, n = X.shape \n",
    "        self.w = np.zeros(n)\n",
    "        self.b = 0\n",
    "        \n",
    "        for iteration in range(self.iterations):\n",
    "            y_predict = self.predict(X)\n",
    "            self.w -= self.alpha * self.cost_derivative(y_predict, y, X)\n",
    "            self.b -= self.alpha * self.b_derivative(y_predict, y)\n",
    "            self.costFunction.append(self.cost_function(X, y))\n"
   ]
  },
  {
   "cell_type": "code",
   "execution_count": 83,
   "id": "dd0bea53-b2ef-461e-baef-d71f3c03f026",
   "metadata": {},
   "outputs": [
    {
     "name": "stdout",
     "output_type": "stream",
     "text": [
      "Predictions: [207754.65147474 174092.03648776 325420.9981575   93060.01613503\n",
      " 164297.34293635 283337.8185348  304865.46044706   2571.60612825\n",
      "  83191.82442799 424215.84037489]\n",
      "Actual: [228800.0, 99500.0, 353100.0, 221900.0, 102300.0, 197100.0, 273700.0, 64500.0, 69300.0, 500001.0]\n"
     ]
    }
   ],
   "source": [
    "model2 = LinearRegression2()\n",
    "start_time=time.time()\n",
    "model2.fit(features, y_train_list)\n",
    "end_time=time.time()\n",
    "\n",
    "numpy_time=end_time-start_time\n",
    "predicted_y2 = model2.predict(X_val_scaled)\n",
    "\n",
    "print(\"Predictions:\", predicted_y2[:10])\n",
    "print(\"Actual:\", y_val_list[:10])"
   ]
  },
  {
   "cell_type": "code",
   "execution_count": 84,
   "id": "3bef778f-daa5-4904-8176-d89b6b2a3774",
   "metadata": {},
   "outputs": [
    {
     "name": "stdout",
     "output_type": "stream",
     "text": [
      "Predictions: [207558.60031522 173813.48084681 325558.05257519  93192.87858075\n",
      " 164419.27063898 283128.87126462 304818.07669519   2089.85152552\n",
      "  83037.18972073 424425.65088183]\n",
      "Actual: [228800.0, 99500.0, 353100.0, 221900.0, 102300.0, 197100.0, 273700.0, 64500.0, 69300.0, 500001.0]\n"
     ]
    }
   ],
   "source": [
    "#scikit Implementation\n",
    "from sklearn.linear_model import LinearRegression\n",
    "model3 = LinearRegression()\n",
    "\n",
    "start_time = time.time()\n",
    "model3.fit(X_train_scaled, y_train)\n",
    "end_time = time.time()\n",
    "\n",
    "sk_time=end_time-start_time\n",
    "predicted_y3 = model3.predict(X_val_scaled)\n",
    "\n",
    "print(\"Predictions:\", predicted_y3[:10])\n",
    "print(\"Actual:\", y_val_list[:10])"
   ]
  },
  {
   "cell_type": "code",
   "execution_count": 85,
   "id": "4000e137-6884-421a-b585-3aca6b06fcdd",
   "metadata": {},
   "outputs": [
    {
     "name": "stdout",
     "output_type": "stream",
     "text": [
      "Time Analysis\n",
      "Pure Python Implementation:  29.84807276725769\n",
      "Numpy Implementation:  1.095057487487793\n",
      "Scikit Implementation:  0.008042335510253906\n"
     ]
    }
   ],
   "source": [
    "print(\"Time Analysis\")\n",
    "print(\"Pure Python Implementation: \", pure_time)\n",
    "print(\"Numpy Implementation: \", numpy_time)\n",
    "print(\"Scikit Implementation: \", sk_time)"
   ]
  },
  {
   "cell_type": "code",
   "execution_count": 86,
   "id": "9b8dc6fa-d670-41cf-aca9-a19a438a046e",
   "metadata": {},
   "outputs": [
    {
     "name": "stdout",
     "output_type": "stream",
     "text": [
      "Performance Metrics\n",
      "Pure Python Analysis\n",
      "Training Data\n",
      "MAE:  50753.65628596652\n",
      "RMSE:  69149.06302561311\n",
      "R2 Score 0.6405278459424575\n",
      "Validation Data\n",
      "MAE:  51268.8201890212\n",
      "RMSE:  70944.41950907093\n",
      "R2 Score 0.6229190802058171\n",
      "Numpy Implementation Analysis\n",
      "Training Data\n",
      "MAE:  50753.656286173835\n",
      "RMSE:  69149.06302541347\n",
      "R2 Score 0.6405278459445329\n",
      "Validation Data\n",
      "MAE:  51268.82018995449\n",
      "RMSE:  70944.41950838693\n",
      "R2 Score 0.6229190802130884\n",
      "Scikit Implementation Analysis\n",
      "Training Data\n",
      "MAE:  50757.22201601821\n",
      "RMSE:  69148.62427221455\n",
      "R2 Score 0.6405324076565865\n",
      "Validation Data\n",
      "MAE:  51276.3409486691\n",
      "RMSE:  70942.84955503102\n",
      "R2 Score 0.6229357691340576\n"
     ]
    }
   ],
   "source": [
    "print(\"Performance Metrics\")\n",
    "print(\"Pure Python Analysis\")\n",
    "print(\"Training Data\")\n",
    "y1_train_predicted=model.predict(features)\n",
    "print(\"MAE: \", mean_absolute_error(y_train,y1_train_predicted))\n",
    "print(\"RMSE: \", np.sqrt(mean_squared_error(y_train,y1_train_predicted)))\n",
    "print(\"R2 Score\", r2_score(y_train,y1_train_predicted))\n",
    "print(\"Validation Data\")\n",
    "print(\"MAE: \", mean_absolute_error(y_val,predicted_y1))\n",
    "print(\"RMSE: \", np.sqrt(mean_squared_error(y_val,predicted_y1)))\n",
    "print(\"R2 Score\", r2_score(y_val,predicted_y1))\n",
    "print(\"Numpy Implementation Analysis\")\n",
    "print(\"Training Data\")\n",
    "y2_train_predicted=model2.predict(features)\n",
    "print(\"MAE: \", mean_absolute_error(y_train,y2_train_predicted))\n",
    "print(\"RMSE: \", np.sqrt(mean_squared_error(y_train,y2_train_predicted)))\n",
    "print(\"R2 Score\", r2_score(y_train,y2_train_predicted))\n",
    "print(\"Validation Data\")\n",
    "print(\"MAE: \", mean_absolute_error(y_val,predicted_y2))\n",
    "print(\"RMSE: \", np.sqrt(mean_squared_error(y_val,predicted_y2)))\n",
    "print(\"R2 Score\", r2_score(y_val,predicted_y2))\n",
    "print(\"Scikit Implementation Analysis\")\n",
    "print(\"Training Data\")\n",
    "y3_train_predicted=model3.predict(X_train_scaled)\n",
    "print(\"MAE: \", mean_absolute_error(y_train,y3_train_predicted))\n",
    "print(\"RMSE: \", np.sqrt(mean_squared_error(y_train,y3_train_predicted)))\n",
    "print(\"R2 Score\", r2_score(y_train,y3_train_predicted))\n",
    "print(\"Validation Data\")\n",
    "print(\"MAE: \", mean_absolute_error(y_val,predicted_y3))\n",
    "print(\"RMSE: \", np.sqrt(mean_squared_error(y_val,predicted_y3)))\n",
    "print(\"R2 Score\", r2_score(y_val,predicted_y3))"
   ]
  },
  {
   "cell_type": "code",
   "execution_count": 87,
   "id": "0d776748-dea8-4076-aaaa-551f84be056a",
   "metadata": {},
   "outputs": [
    {
     "data": {
      "image/png": "[encoded data removed]",
      "text/plain": [
       "<Figure size 640x480 with 1 Axes>"
      ]
     },
     "metadata": {},
     "output_type": "display_data"
    }
   ],
   "source": [
    "import matplotlib.pyplot as plt\n",
    "plt.plot(model.costFunction,color=\"blue\",linestyle='-',label=\"Pure Python Implementation\")\n",
    "plt.plot(model2.costFunction,color=\"red\",linestyle='--',label=\"Numpy Implementation\")\n",
    "plt.xlabel(\"Iteration\")\n",
    "plt.ylabel(\"Cost Function\")\n",
    "plt.title(\"Cost Function Convergence\")\n",
    "plt.legend()\n",
    "plt.tight_layout()\n",
    "plt.show()"
   ]
  },
  {
   "cell_type": "code",
   "execution_count": 88,
   "id": "4e4d021b-005e-4e87-9d39-27c7f2fad662",
   "metadata": {},
   "outputs": [
    {
     "data": {
      "text/plain": [
       "<matplotlib.legend.Legend at 0x21ff017c9b0>"
      ]
     },
     "execution_count": 88,
     "metadata": {},
     "output_type": "execute_result"
    },
    {
     "data": {
      "image/png": "[encoded data removed]",
      "text/plain": [
       "<Figure size 1200x700 with 1 Axes>"
      ]
     },
     "metadata": {},
     "output_type": "display_data"
    }
   ],
   "source": [
    "width = 0.25\n",
    "labels = ['Training Data','Validation Data']\n",
    "x=np.arange(len(labels))\n",
    "fig1, ax1 = plt.subplots(figsize=(12, 7))\n",
    "rects1 = ax1.bar(x - width, [mean_absolute_error(y_train,y1_train_predicted),mean_absolute_error(y_val,predicted_y1)], width, label='Pure Python', color='skyblue')\n",
    "rects2 = ax1.bar(x, [mean_absolute_error(y_train,y2_train_predicted),mean_absolute_error(y_val,predicted_y2)], width, label='NumPy', color='lightcoral')\n",
    "rects3 = ax1.bar(x + width, [mean_absolute_error(y_val,predicted_y3),mean_absolute_error(y_val,predicted_y3)], width, label='Scikit-learn', color='lightgreen')\n",
    "\n",
    "ax1.set_ylabel('Score')\n",
    "ax1.set_title('Mean Absolute Error by Model')\n",
    "ax1.set_xticks(x)\n",
    "ax1.set_xticklabels(labels)\n",
    "ax1.legend()"
   ]
  },
  {
   "cell_type": "code",
   "execution_count": 89,
   "id": "9441afdf-9c52-430c-8596-155e9feabe84",
   "metadata": {},
   "outputs": [
    {
     "data": {
      "text/plain": [
       "<matplotlib.legend.Legend at 0x21ff017f440>"
      ]
     },
     "execution_count": 89,
     "metadata": {},
     "output_type": "execute_result"
    },
    {
     "data": {
      "image/png": "[encoded data removed]",
      "text/plain": [
       "<Figure size 1200x700 with 1 Axes>"
      ]
     },
     "metadata": {},
     "output_type": "display_data"
    }
   ],
   "source": [
    "fig2, ax2 = plt.subplots(figsize=(12, 7))\n",
    "rects4 = ax2.bar(x - width, [np.sqrt(mean_squared_error(y_train,y1_train_predicted)),np.sqrt(mean_squared_error(y_val,predicted_y1))], width, label='Pure Python', color='skyblue')\n",
    "rects5 = ax2.bar(x, [np.sqrt(mean_squared_error(y_train,y2_train_predicted)),np.sqrt(mean_squared_error(y_val,predicted_y2))], width, label='NumPy', color='lightcoral')\n",
    "rects6 = ax2.bar(x + width, [np.sqrt(mean_squared_error(y_train,y3_train_predicted)),np.sqrt(mean_squared_error(y_val,predicted_y3))], width, label='Scikit-learn', color='lightgreen')\n",
    "\n",
    "ax2.set_ylabel('Score')\n",
    "ax2.set_title('RMSE by Model')\n",
    "ax2.set_xticks(x)\n",
    "ax2.set_xticklabels(labels)\n",
    "ax2.legend()"
   ]
  },
  {
   "cell_type": "code",
   "execution_count": 90,
   "id": "bd61bbbd-ad1d-4b9a-acd1-05e4e3fe06e4",
   "metadata": {},
   "outputs": [
    {
     "data": {
      "text/plain": [
       "<matplotlib.legend.Legend at 0x21ff2ec28d0>"
      ]
     },
     "execution_count": 90,
     "metadata": {},
     "output_type": "execute_result"
    },
    {
     "data": {
      "image/png": "[encoded data removed]",
      "text/plain": [
       "<Figure size 1200x700 with 1 Axes>"
      ]
     },
     "metadata": {},
     "output_type": "display_data"
    }
   ],
   "source": [
    "fig3, ax3 = plt.subplots(figsize=(12, 7))\n",
    "rects7 = ax3.bar(x - width, [r2_score(y_train,y1_train_predicted),r2_score(y_val,predicted_y1)], width, label='Pure Python', color='skyblue')\n",
    "rects8 = ax3.bar(x, [r2_score(y_train,y2_train_predicted),r2_score(y_val,predicted_y2)], width, label='NumPy', color='lightcoral')\n",
    "rects9 = ax3.bar(x + width, [r2_score(y_train,y3_train_predicted),r2_score(y_val,predicted_y3)], width, label='Scikit-learn', color='lightgreen')\n",
    "\n",
    "ax3.set_ylabel('Score')\n",
    "ax3.set_title('R2 Score by Model')\n",
    "ax3.set_xticks(x)\n",
    "ax3.set_xticklabels(labels)\n",
    "ax3.legend()"
   ]
  },
  {
   "cell_type": "code",
   "execution_count": null,
   "id": "5cd8cd17-47a4-425c-b8ef-2146a067e63f",
   "metadata": {},
   "outputs": [],
   "source": []
  }
 ],
 "metadata": {
  "kernelspec": {
   "display_name": "Python [conda env:base] *",
   "language": "python",
   "name": "conda-base-py"
  },
  "language_info": {
   "codemirror_mode": {
    "name": "ipython",
    "version": 3
   },
   "file_extension": ".py",
   "mimetype": "text/x-python",
   "name": "python",
   "nbconvert_exporter": "python",
   "pygments_lexer": "ipython3",
   "version": "3.12.7"
  }
 },
 "nbformat": 4,
 "nbformat_minor": 5
}
